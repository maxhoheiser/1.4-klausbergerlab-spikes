{
 "cells": [
  {
   "cell_type": "markdown",
   "metadata": {
    "toc": true
   },
   "source": [
    "<h1>Table of Contents<span class=\"tocSkip\"></span></h1>\n",
    "<div class=\"toc\"><ul class=\"toc-item\"><li><span><a href=\"#JG14190621\" data-toc-modified-id=\"JG14190621-1\"><span class=\"toc-item-num\">1&nbsp;&nbsp;</span>JG14190621</a></span></li></ul></div>"
   ]
  },
  {
   "cell_type": "code",
   "execution_count": null,
   "metadata": {},
   "outputs": [],
   "source": [
    "#\n"
   ]
  },
  {
   "cell_type": "code",
   "execution_count": null,
   "metadata": {},
   "outputs": [],
   "source": [
    "import numpy as np\n",
    "import pandas as pd\n",
    "import matplotlib.pyplot as plt\n",
    "import csv\n",
    "import scipy.stats as st\n",
    "import importlib\n",
    "import os\n",
    "# import sys\n",
    "import platform\n",
    "import qgrid\n",
    "\n",
    "%load_ext autoreload\n",
    "%autoreload 2\n",
    "\n",
    "pd.set_option('display.max_columns', 100)\n",
    "pd.set_option('display.max_rows', 100)\n",
    "\n",
    "%matplotlib notebook\n",
    "#%config InlineBackend.figure_format = 'retina'\n",
    "#plt.style.use(\"https://raw.githubusercontent.com/NeuromatchAcademy/course-content/master/nma.mplstyle\")\n",
    "\n",
    "\n",
    "from IPython.core.display import display, HTML\n",
    "display(HTML(\"<style>.container { width:90% !important; }</style>\"))"
   ]
  },
  {
   "cell_type": "markdown",
   "metadata": {},
   "source": [
    "### JG14190621"
   ]
  },
  {
   "cell_type": "code",
   "execution_count": null,
   "metadata": {},
   "outputs": [],
   "source": [
    "session = 'JG14_190621'\n",
    "gamble_side = 'right'\n",
    "\n",
    "if platform.system() == 'Linux':\n",
    "    # Linux\n",
    "    os.chdir(\"/home/max/ExpanDrive/Google Drive/3.1 Code Repository/1.4-klausbergerlab-spikes/\")\n",
    "    from spikes_class import SpikeAnalysis\n",
    "    folder = \"/home/max/ExpanDrive/Google Drive/3 Projekte/Masterarbeit Laborarbeit Neuroscience/1 Data Analysis/JG14_190621\"\n",
    "elif platform.system() == 'Windows':\n",
    "    # windows\n",
    "    os.chdir(r\"C:\\Users\\User\\Google Drive\\3.1 Code Repository\\1.4-klausbergerlab-spikes\")\n",
    "    from spikes_class import SpikeAnalysis\n",
    "    folder = r\"C:\\Users\\User\\Google Drive\\3 Projekte\\Masterarbeit Laborarbeit Neuroscience\\1 Data Analysis\\JG14_190621\"\n",
    "elif platform.system() == 'Darwin':\n",
    "    os.chdir(\"/Users/max/Google Drive/3.1 Code Repository/3 Masterarbeit/Spikes\")\n",
    "    from spikes_class import SpikeAnalysis\n",
    "    folder = \"/Users/max/Google Drive/3 Projekte/Masterarbeit Laborarbeit Neuroscience/1 Data Analysis/JG14_190621\"\n",
    "\n",
    "\n",
    "    \n",
    "    \n",
    "behaviour = SpikeAnalysis(session, folder, gamble_side)\n",
    "\n"
   ]
  }
 ],
 "metadata": {
  "kernelspec": {
   "display_name": "Python 3",
   "language": "python",
   "name": "python3"
  },
  "language_info": {
   "codemirror_mode": {
    "name": "ipython",
    "version": 3
   },
   "file_extension": ".py",
   "mimetype": "text/x-python",
   "name": "python",
   "nbconvert_exporter": "python",
   "pygments_lexer": "ipython3",
   "version": "3.8.5"
  },
  "toc": {
   "base_numbering": 1,
   "nav_menu": {},
   "number_sections": true,
   "sideBar": true,
   "skip_h1_title": false,
   "title_cell": "Table of Contents",
   "title_sidebar": "Contents",
   "toc_cell": true,
   "toc_position": {},
   "toc_section_display": true,
   "toc_window_display": false
  }
 },
 "nbformat": 4,
 "nbformat_minor": 4
}
